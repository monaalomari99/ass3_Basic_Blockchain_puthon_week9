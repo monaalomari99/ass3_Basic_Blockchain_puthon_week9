{
 "cells": [
  {
   "cell_type": "code",
   "execution_count": 1,
   "id": "b23873cb-cc83-427d-ab32-0e6f75447f4c",
   "metadata": {},
   "outputs": [],
   "source": [
    "import time\n",
    "\n",
    "from hashlib import sha256\n",
    "import json\n",
    "\n",
    "class Block:\n",
    "  \n",
    "    def __init__(self, index, transactions, timestamp, previous_hash, nonce=0):\n",
    "    # Todo for students, implement the initialization of the properties for this class.\n",
    "        self.index = index\n",
    "        self.transactions = transactions\n",
    "        self.timestamp = timestamp\n",
    "        self.previous_hash = previous_hash\n",
    "        self.nonce = nonce\n",
    "        #print(\"good\")\n",
    "    def compute_hash(self):\n",
    "        block_string = json.dumps(self.__dict__, sort_keys=True)\n",
    "         #todo for students: implement a sha256 solution to return the hex digest of the block_string, and return it. \n",
    "        return sha256(block_string.encode()).hexdigest()\n",
    "\n",
    "class Blockchain(Block):\n",
    "\n",
    "    def __init__(self):\n",
    "        # student todo: write the code for unconfirmed_transactions property.\n",
    "        self.unconfirmed_transactions = []\n",
    "        # student todo: write the code for chain property.\n",
    "        self.chain = []\n",
    "        # student todo: add and initialize the difficulty property. \n",
    "        self.difficulty = 2\n",
    "        self.create_genesis_block()\n",
    " \n",
    "    def create_genesis_block(self):\n",
    "        genesis_block = Block(0, [], time.time(), \"0\")\n",
    "        genesis_block.hash = genesis_block.compute_hash()\n",
    "        self.chain.append(genesis_block)\n",
    "       \n",
    "\n",
    "\n",
    "    # todo define get_last_block(self) -> Block, hint: consider an index to the last element in your chain property.\n",
    "    def last_block(self):\n",
    "        return self.chain[-1]\n",
    "        \n",
    "    difficulty = 2\n",
    "    def proof_of_work(self, block:Block):\n",
    "        # computed_hash = how do we get the hash from a Block object?\n",
    "        computed_hash = block.compute_hash()\n",
    "        while not computed_hash.startswith('0' * Blockchain.difficulty):\n",
    "            block.nonce += 1\n",
    "            computed_hash = block.compute_hash()\n",
    "        # Don't forget to return the hash. \n",
    "        return computed_hash\n",
    "\n",
    "    # todo define is_valid_proof(self, block:Block, block_hash:str) -> bool\n",
    "    def is_valid_proof(self, block:Block, block_hash:str):\n",
    "        # hint, we want to return true if block_hash.startswith('0' * Blockchain.difficulty)\n",
    "        # AND if block_hash is in fact the hash of our block (maybe use block.compute_hash())\n",
    "        return (block_hash.startswith('0' * Blockchain.difficulty) and\n",
    "                block_hash == block.compute_hash())\n",
    "    \n",
    "    # todo define add_block(self, block:Block, proof:str) -> bool\n",
    "    # hints, we probably want to get the previous hash from get_last_block()\n",
    "    def add_block(self, block:Block, proof:str):\n",
    "        previous_hash = self.last_block.hash\n",
    "        # Check if the previous hash matches the previous hash in the block argument. \n",
    "        if previous_hash != block.previous_hash:\n",
    "            return False\n",
    "        # Make use of is_valid_proof for block and proof to check if someone is trying to do something sneaky.\n",
    "        #return False early and return control the calling function if the block is not valid.\n",
    "        if not self.is_valid_proof(block, proof):\n",
    "            return False\n",
    "        block.hash = proof\n",
    "        self.chain.append(block)#So let's add the hash to our block, append it to the chain,and return True.\n",
    "        return True\n",
    "\n",
    "    # todo, define add_new_transaction(self, transaction:dict) -> None\n",
    "    # Hint how do we append to a list? How do we do this for a property of our object (self). Ease one line function. \n",
    "    def add_new_transaction(self, transaction):\n",
    "        self.unconfirmed_transactions.append(transaction)# append to a list\n",
    "     \n",
    "      \n",
    "    def mine(self):\n",
    "        if not self.unconfirmed_transactions:\n",
    "            return False\n",
    "        # consider retrieving the last block to a local variable make life easy. \n",
    "        last_block = self.last_block\n",
    "        # Let's make sure we use our Block constructor to create a new block with all the transactions we want to mine \n",
    "        new_block = Block(index=last_block.index + 1,\n",
    "                          transactions=self.unconfirmed_transactions,\n",
    "                          timestamp=time.time(),\n",
    "                          previous_hash=last_block.hash)\n",
    "        # Finally, let's be sure to use our handy proof_of_work function, add_block function, and to remember to reset our\n",
    "        # unconfirmed_transactions (our mem-pool), before returning our new block index;\n",
    "        proof = self.proof_of_work(new_block)\n",
    "        self.add_block(new_block, proof)\n",
    "        self.unconfirmed_transactions = []\n",
    "        return new_block.index\n",
    "    \n"
   ]
  },
  {
   "cell_type": "code",
   "execution_count": 3,
   "id": "006495b4-deca-4e0a-a242-24a846df26eb",
   "metadata": {},
   "outputs": [
    {
     "name": "stdout",
     "output_type": "stream",
     "text": [
      "2091f9881925a24c557a947bf892df12bc5847b30a5b3b8b6afca42fe2fc3fd3\n"
     ]
    }
   ],
   "source": [
    "sb0=Block(0, [], time.time(), \"0\")\n",
    "print(sb0.compute_hash())"
   ]
  },
  {
   "cell_type": "code",
   "execution_count": 4,
   "id": "e14e2d22-b040-45f3-8593-6f618447f35f",
   "metadata": {},
   "outputs": [
    {
     "name": "stdout",
     "output_type": "stream",
     "text": [
      "2f199935011aea067a322360e5bf3f223f1ca5b1d48266634ed9ffbd4d1472d1\n"
     ]
    }
   ],
   "source": [
    "sb1=Block(1, [], time.time(), \"0\")\n",
    "print(sb1.compute_hash())"
   ]
  },
  {
   "cell_type": "code",
   "execution_count": 5,
   "id": "0ac906a3-b191-4d9a-ac88-ac3c4b8ed346",
   "metadata": {},
   "outputs": [
    {
     "name": "stdout",
     "output_type": "stream",
     "text": [
      "<__main__.Block object at 0x000001B72456E880>\n"
     ]
    }
   ],
   "source": [
    "b=Blockchain()\n",
    "print(b.last_block())"
   ]
  },
  {
   "cell_type": "code",
   "execution_count": 6,
   "id": "ed7ff145-e7a8-4545-965c-2a7c8ec5fa04",
   "metadata": {},
   "outputs": [
    {
     "data": {
      "text/plain": [
       "'001e5a330803e85dbcc4b8c2da0db001c0b8d8546fc03cb549efb8f03d1b3a37'"
      ]
     },
     "execution_count": 6,
     "metadata": {},
     "output_type": "execute_result"
    }
   ],
   "source": [
    "b.proof_of_work(sb1)"
   ]
  },
  {
   "cell_type": "code",
   "execution_count": 7,
   "id": "3f0c49ab-714e-4d8f-afab-70b935626a4f",
   "metadata": {},
   "outputs": [
    {
     "data": {
      "text/plain": [
       "True"
      ]
     },
     "execution_count": 7,
     "metadata": {},
     "output_type": "execute_result"
    }
   ],
   "source": [
    "b.is_valid_proof(sb1,sb1.compute_hash())"
   ]
  },
  {
   "cell_type": "code",
   "execution_count": 9,
   "id": "6cba52b4-ed8b-47e1-8660-3b80005d9b6b",
   "metadata": {},
   "outputs": [
    {
     "data": {
      "text/plain": [
       "False"
      ]
     },
     "execution_count": 9,
     "metadata": {},
     "output_type": "execute_result"
    }
   ],
   "source": [
    "b.mine()"
   ]
  },
  {
   "cell_type": "code",
   "execution_count": null,
   "id": "65517de5-2e5c-428c-b3d4-dbcc140c7e0b",
   "metadata": {},
   "outputs": [],
   "source": []
  }
 ],
 "metadata": {
  "kernelspec": {
   "display_name": "Python 3 (ipykernel)",
   "language": "python",
   "name": "python3"
  },
  "language_info": {
   "codemirror_mode": {
    "name": "ipython",
    "version": 3
   },
   "file_extension": ".py",
   "mimetype": "text/x-python",
   "name": "python",
   "nbconvert_exporter": "python",
   "pygments_lexer": "ipython3",
   "version": "3.8.12"
  }
 },
 "nbformat": 4,
 "nbformat_minor": 5
}
